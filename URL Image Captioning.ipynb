{
 "cells": [
  {
   "cell_type": "code",
   "execution_count": 8,
   "metadata": {},
   "outputs": [],
   "source": [
    "import requests\n",
    "from PIL import Image\n",
    "from io import BytesIO\n",
    "from bs4 import BeautifulSoup\n",
    "from transformers import AutoProcessor, BlipForConditionalGeneration"
   ]
  },
  {
   "cell_type": "code",
   "execution_count": null,
   "metadata": {},
   "outputs": [
    {
     "name": "stderr",
     "output_type": "stream",
     "text": [
      "c:\\Users\\zeina\\anaconda3\\Lib\\site-packages\\huggingface_hub\\file_download.py:797: FutureWarning: `resume_download` is deprecated and will be removed in version 1.0.0. Downloads always resume when possible. If you want to force a new download, use `force_download=True`.\n",
      "  warnings.warn(\n"
     ]
    }
   ],
   "source": [
    "processor = AutoProcessor.from_pretrained(\"Salesforce/blip-image-captioning-base\")\n",
    "model = BlipForConditionalGeneration.from_pretrained(\"Salesforce/blip-image-captioning-base\")"
   ]
  },
  {
   "cell_type": "code",
   "execution_count": 9,
   "metadata": {},
   "outputs": [],
   "source": [
    "url = \"https://en.wikipedia.org/wiki/IBM\""
   ]
  },
  {
   "cell_type": "code",
   "execution_count": 10,
   "metadata": {},
   "outputs": [],
   "source": [
    "response = requests.get(url)\n",
    "soup = BeautifulSoup(response.text, 'html.parser')"
   ]
  },
  {
   "cell_type": "code",
   "execution_count": 11,
   "metadata": {},
   "outputs": [],
   "source": [
    "img_elements = soup.find_all('img')"
   ]
  },
  {
   "cell_type": "code",
   "execution_count": 12,
   "metadata": {},
   "outputs": [
    {
     "name": "stdout",
     "output_type": "stream",
     "text": [
      "Error processing image https://upload.wikimedia.org/wikipedia/commons/thumb/6/60/IBM_Q_system_%28Fraunhofer_2%29.jpg/220px-IBM_Q_system_%28Fraunhofer_2%29.jpg: cannot identify image file <_io.BytesIO object at 0x0000013F31C91850>\n"
     ]
    }
   ],
   "source": [
    "with open(\"captions.txt\", \"w\") as caption_file:\n",
    "    for img_element in img_elements:\n",
    "        img_url = img_element.get('src')\n",
    "        if 'svg' in img_url or '1x1' in img_url:\n",
    "            continue\n",
    "        if img_url.startswith('//'):\n",
    "            img_url = 'https:' + img_url\n",
    "        elif not img_url.startswith('http://') and not img_url.startswith('https://'):\n",
    "            continue\n",
    "        try:\n",
    "            response = requests.get(img_url)\n",
    "            raw_image = Image.open(BytesIO(response.content))\n",
    "            if raw_image.size[0] * raw_image.size[1] < 400:\n",
    "                continue\n",
    "            \n",
    "            raw_image = raw_image.convert('RGB')\n",
    "            inputs = processor(raw_image, return_tensors=\"pt\")\n",
    "            out = model.generate(**inputs, max_new_tokens=50)\n",
    "            caption = processor.decode(out[0], skip_special_tokens=True)\n",
    "            caption_file.write(f\"{img_url}: {caption}\\n\")\n",
    "        except Exception as e:\n",
    "            print(f\"Error processing image {img_url}: {e}\")\n",
    "            continue"
   ]
  },
  {
   "cell_type": "code",
   "execution_count": null,
   "metadata": {},
   "outputs": [],
   "source": []
  }
 ],
 "metadata": {
  "kernelspec": {
   "display_name": "base",
   "language": "python",
   "name": "python3"
  },
  "language_info": {
   "codemirror_mode": {
    "name": "ipython",
    "version": 3
   },
   "file_extension": ".py",
   "mimetype": "text/x-python",
   "name": "python",
   "nbconvert_exporter": "python",
   "pygments_lexer": "ipython3",
   "version": "3.11.3"
  }
 },
 "nbformat": 4,
 "nbformat_minor": 2
}
